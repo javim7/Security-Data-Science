{
 "cells": [
  {
   "cell_type": "markdown",
   "metadata": {},
   "source": [
    "# Hoja de Trabajo: Análisis de Malware\n",
    "### Javier Mombiela\n",
    "### Carnet: 20067\n",
    "### 23 de febrero del 2024"
   ]
  },
  {
   "cell_type": "code",
   "execution_count": 5,
   "metadata": {},
   "outputs": [],
   "source": [
    "import pefile"
   ]
  },
  {
   "cell_type": "markdown",
   "metadata": {},
   "source": [
    "### Parte 1 – análisis estático"
   ]
  },
  {
   "cell_type": "code",
   "execution_count": 6,
   "metadata": {},
   "outputs": [],
   "source": [
    "exe_path = './sample_vg655_25th.exe'"
   ]
  },
  {
   "cell_type": "markdown",
   "metadata": {},
   "source": [
    "#### 1. Utilice la herramienta pefile para examinar el PE header y obtenga las DLL y las APIs"
   ]
  },
  {
   "cell_type": "code",
   "execution_count": 7,
   "metadata": {},
   "outputs": [
    {
     "name": "stdout",
     "output_type": "stream",
     "text": [
      "DLLs importadas:\n",
      "\t KERNEL32.dll\n",
      "\t USER32.dll\n",
      "\t ADVAPI32.dll\n",
      "\t MSVCRT.dll\n",
      "\n",
      "APIs importadas:\n",
      "\tDLL: KERNEL32.dll\n",
      "\t\t GetFileAttributesW\n",
      "\t\t GetFileSizeEx\n",
      "\t\t CreateFileA\n",
      "\t\t InitializeCriticalSection\n",
      "\t\t DeleteCriticalSection\n",
      "\t\t ReadFile\n",
      "\t\t GetFileSize\n",
      "\t\t WriteFile\n",
      "\t\t LeaveCriticalSection\n",
      "\t\t EnterCriticalSection\n",
      "\t\t SetFileAttributesW\n",
      "\t\t SetCurrentDirectoryW\n",
      "\t\t CreateDirectoryW\n",
      "\t\t GetTempPathW\n",
      "\t\t GetWindowsDirectoryW\n",
      "\t\t GetFileAttributesA\n",
      "\t\t SizeofResource\n",
      "\t\t LockResource\n",
      "\t\t LoadResource\n",
      "\t\t MultiByteToWideChar\n",
      "\t\t Sleep\n",
      "\t\t OpenMutexA\n",
      "\t\t GetFullPathNameA\n",
      "\t\t CopyFileA\n",
      "\t\t GetModuleFileNameA\n",
      "\t\t VirtualAlloc\n",
      "\t\t VirtualFree\n",
      "\t\t FreeLibrary\n",
      "\t\t HeapAlloc\n",
      "\t\t GetProcessHeap\n",
      "\t\t GetModuleHandleA\n",
      "\t\t SetLastError\n",
      "\t\t VirtualProtect\n",
      "\t\t IsBadReadPtr\n",
      "\t\t HeapFree\n",
      "\t\t SystemTimeToFileTime\n",
      "\t\t LocalFileTimeToFileTime\n",
      "\t\t CreateDirectoryA\n",
      "\t\t GetStartupInfoA\n",
      "\t\t SetFilePointer\n",
      "\t\t SetFileTime\n",
      "\t\t GetComputerNameW\n",
      "\t\t GetCurrentDirectoryA\n",
      "\t\t SetCurrentDirectoryA\n",
      "\t\t GlobalAlloc\n",
      "\t\t LoadLibraryA\n",
      "\t\t GetProcAddress\n",
      "\t\t GlobalFree\n",
      "\t\t CreateProcessA\n",
      "\t\t CloseHandle\n",
      "\t\t WaitForSingleObject\n",
      "\t\t TerminateProcess\n",
      "\t\t GetExitCodeProcess\n",
      "\t\t FindResourceA\n",
      "\tDLL: USER32.dll\n",
      "\t\t wsprintfA\n",
      "\tDLL: ADVAPI32.dll\n",
      "\t\t CreateServiceA\n",
      "\t\t OpenServiceA\n",
      "\t\t StartServiceA\n",
      "\t\t CloseServiceHandle\n",
      "\t\t CryptReleaseContext\n",
      "\t\t RegCreateKeyW\n",
      "\t\t RegSetValueExA\n",
      "\t\t RegQueryValueExA\n",
      "\t\t RegCloseKey\n",
      "\t\t OpenSCManagerA\n",
      "\tDLL: MSVCRT.dll\n",
      "\t\t realloc\n",
      "\t\t fclose\n",
      "\t\t fwrite\n",
      "\t\t fread\n",
      "\t\t fopen\n",
      "\t\t sprintf\n",
      "\t\t rand\n",
      "\t\t srand\n",
      "\t\t strcpy\n",
      "\t\t memset\n",
      "\t\t strlen\n",
      "\t\t wcscat\n",
      "\t\t wcslen\n",
      "\t\t __CxxFrameHandler\n",
      "\t\t ??3@YAXPAX@Z\n",
      "\t\t memcmp\n",
      "\t\t _except_handler3\n",
      "\t\t _local_unwind2\n",
      "\t\t wcsrchr\n",
      "\t\t swprintf\n",
      "\t\t ??2@YAPAXI@Z\n",
      "\t\t memcpy\n",
      "\t\t strcmp\n",
      "\t\t strrchr\n",
      "\t\t __p___argv\n",
      "\t\t __p___argc\n",
      "\t\t _stricmp\n",
      "\t\t free\n",
      "\t\t malloc\n",
      "\t\t ??0exception@@QAE@ABV0@@Z\n",
      "\t\t ??1exception@@UAE@XZ\n",
      "\t\t ??0exception@@QAE@ABQBD@Z\n",
      "\t\t _CxxThrowException\n",
      "\t\t calloc\n",
      "\t\t strcat\n",
      "\t\t _mbsstr\n",
      "\t\t ??1type_info@@UAE@XZ\n",
      "\t\t _exit\n",
      "\t\t _XcptFilter\n",
      "\t\t exit\n",
      "\t\t _acmdln\n",
      "\t\t __getmainargs\n",
      "\t\t _initterm\n",
      "\t\t __setusermatherr\n",
      "\t\t _adjust_fdiv\n",
      "\t\t __p__commode\n",
      "\t\t __p__fmode\n",
      "\t\t __set_app_type\n",
      "\t\t _controlfp\n"
     ]
    }
   ],
   "source": [
    "def get_imports_info(exe_path):\n",
    "    try:\n",
    "        pe = pefile.PE(exe_path)\n",
    "        print(\"DLLs importadas:\")\n",
    "        for entry in pe.DIRECTORY_ENTRY_IMPORT:\n",
    "            print(\"\\t\", entry.dll.decode())\n",
    "\n",
    "        print(\"\\nAPIs importadas:\")\n",
    "        for entry in pe.DIRECTORY_ENTRY_IMPORT:\n",
    "            print(\"\\tDLL:\", entry.dll.decode())\n",
    "            for imp in entry.imports:\n",
    "                print(\"\\t\\t\", imp.name.decode())\n",
    "    except Exception as e:\n",
    "        print(\"Error:\", e)\n",
    "\n",
    "get_imports_info(exe_path)"
   ]
  },
  {
   "cell_type": "markdown",
   "metadata": {},
   "source": [
    "- No hay indicios inmediatos de comportamiento sospechoso en la cantidad de DLLs importadas ni en las APIs llamadas. El número de DLLs importadas (cuatro) no es por sí mismo alarmante, y las APIs llamadas son funciones estándar del sistema operativo Windows."
   ]
  },
  {
   "cell_type": "markdown",
   "metadata": {},
   "source": [
    "####  2. Obtenga la información de las secciones del PE Header. ¿Qué significa que algunas secciones tengan como parte de su nombre “upx”? Realice el procedimiento de desempaquetado para obtener las llamadas completas de las APIs.\n",
    "\n",
    "- Las secciones con nombres que contienen \"upx\" generalmente indican que el archivo ha sido comprimido o empaquetado utilizando la herramienta de compresión UPX (Ultimate Packer for eXecutables)."
   ]
  },
  {
   "cell_type": "code",
   "execution_count": 8,
   "metadata": {},
   "outputs": [
    {
     "name": "stdout",
     "output_type": "stream",
     "text": [
      "Secciones del PE Header:\n",
      "\tNombre: .text\n",
      "\tVirtualAddress: 0x1000\n",
      "\tVirtualSize: 0x69b0\n",
      "\tSizeOfRawData: 0x7000\n",
      "\tPointerToRawData: 0x1000\n",
      "\tCharacteristics: 0x60000020\n",
      "\n",
      "\tNombre: .rdata\n",
      "\tVirtualAddress: 0x8000\n",
      "\tVirtualSize: 0x5f70\n",
      "\tSizeOfRawData: 0x6000\n",
      "\tPointerToRawData: 0x8000\n",
      "\tCharacteristics: 0x40000040\n",
      "\n",
      "\tNombre: .data\n",
      "\tVirtualAddress: 0xe000\n",
      "\tVirtualSize: 0x1958\n",
      "\tSizeOfRawData: 0x2000\n",
      "\tPointerToRawData: 0xe000\n",
      "\tCharacteristics: 0xc0000040\n",
      "\n",
      "\tNombre: .rsrc\n",
      "\tVirtualAddress: 0x10000\n",
      "\tVirtualSize: 0x349fa0\n",
      "\tSizeOfRawData: 0x34a000\n",
      "\tPointerToRawData: 0x10000\n",
      "\tCharacteristics: 0x40000040\n",
      "\n"
     ]
    }
   ],
   "source": [
    "def get_sections_info(exe_path):\n",
    "    try:\n",
    "        pe = pefile.PE(exe_path)\n",
    "        print(\"Secciones del PE Header:\")\n",
    "        for section in pe.sections:\n",
    "            print(\"\\tNombre:\", section.Name.decode().strip('\\x00'))\n",
    "            print(\"\\tVirtualAddress:\", hex(section.VirtualAddress))\n",
    "            print(\"\\tVirtualSize:\", hex(section.Misc_VirtualSize))\n",
    "            print(\"\\tSizeOfRawData:\", hex(section.SizeOfRawData))\n",
    "            print(\"\\tPointerToRawData:\", hex(section.PointerToRawData))\n",
    "            print(\"\\tCharacteristics:\", hex(section.Characteristics))\n",
    "            print()\n",
    "            \n",
    "            # Desempaquetar secciones con \"upx\" en el nombre\n",
    "            if b\"upx\" in section.Name.lower():\n",
    "                print(\"Desempaquetando sección:\", section.Name.decode().strip('\\x00'))\n",
    "                unpacked_data = section.get_data()\n",
    "                print(\"Sección desempaquetada:\", unpacked_data)\n",
    "                \n",
    "    except Exception as e:\n",
    "        print(\"Error:\", e)\n",
    "\n",
    "get_sections_info(exe_path)"
   ]
  },
  {
   "cell_type": "markdown",
   "metadata": {},
   "source": [
    "#### 3. Según el paper “Towards Understanding Malware Behaviour by the Extraction of API Calls”, ¿en que categoría sospechosas pueden clasificarse estos ejemplos en base a algunas de las llamadas a las APIs que realizan? Muestre una tabla con las APIs sospechosas y la categoría de malware que el artículo propone\n",
    "\n",
    "| Categoría de Malware            | API Sospechosa          |\n",
    "|---------------------------------|-------------------------|\n",
    "| Search files to infect          | CreateProcessA          |\n",
    "|                                 | LoadLibraryA            |\n",
    "|                                 | TerminateProcess        |\n",
    "|                                 | RegCreateKeyW           |\n",
    "|                                 | CryptReleaseContext     |\n",
    "|---------------------------------|-------------------------|\n",
    "| Copy/Delete files               | CopyFileA               |\n",
    "|                                 | DeleteCriticalSection  |\n",
    "|                                 | RemoveDirectoryA        |\n",
    "|                                 | DeleteFileA             |\n",
    "|---------------------------------|-------------------------|\n",
    "| Get file information            | GetFileAttributesW      |\n",
    "|                                 | GetFileSizeEx           |\n",
    "|                                 | GetFileAttributesA      |\n",
    "|                                 | GetFileSize             |\n",
    "|                                 | GetTempPathW            |\n",
    "|                                 | GetWindowsDirectoryW    |\n",
    "|                                 | GetModuleFileNameA      |\n",
    "|                                 | GetComputerNameW        |\n",
    "|                                 | GetCurrentDirectoryA    |\n",
    "|                                 | GetFullPathNameA        |\n",
    "|                                 | GetStartupInfoA         |\n",
    "|---------------------------------|-------------------------|\n",
    "| Move Files                      | MoveFileExA             |\n",
    "|---------------------------------|-------------------------|\n",
    "| Read /Write files               | ReadFile                |\n",
    "|                                 | WriteFile               |\n",
    "|---------------------------------|-------------------------|\n",
    "| Change file attributes          | SetFileAttributesW      |\n",
    "|                                 | SetCurrentDirectoryW    |\n",
    "|                                 | SetFilePointer          |\n",
    "|                                 | SetFileTime             |\n"
   ]
  },
  {
   "cell_type": "markdown",
   "metadata": {},
   "source": [
    "#### 4. Investigue algunas de las funciones y DLLs utilizadas por el ejecutable e indique su propósito.\n",
    "\n",
    "DLLs\n",
    "\n",
    "1. KERNEL32.dll: Contiene funciones relacionadas con la gestión de memoria, administración de procesos y archivos, manipulación de subprocesos, y otras operaciones del sistema operativo Windows.\n",
    "\n",
    "2. USER32.dll: Proporciona funciones relacionadas con la creación y gestión de interfaces de usuario y ventanas, como la manipulación de mensajes, la creación de ventanas y controles, y la manipulación del cursor y del teclado.\n",
    "\n",
    "3. ADVAPI32.dll: Contiene funciones relacionadas con la administración de servicios, seguridad y registro del sistema operativo Windows.\n",
    "\n",
    "4. MSVCRT.dll: Biblioteca de tiempo de ejecución de Microsoft (Microsoft C Runtime Library) que contiene funciones y rutinas estándar para manipular cadenas, memoria, archivos y otros aspectos relacionados con la ejecución de programas escritos en lenguaje C o C++.\n",
    "\n",
    "Funciones\n",
    "\n",
    "1. CreateProcessA: Esta API se utiliza para crear un nuevo proceso y su hilo primario. Es comúnmente utilizada por programas para ejecutar otros programas o procesos secundarios.\n",
    "\n",
    "2. ReadFile: La función ReadFile se utiliza para leer datos desde un archivo o dispositivo de entrada. Es parte de la API de manipulación de archivos de Windows y se utiliza para la lectura de archivos en modo síncrono o asíncrono.\n",
    "\n",
    "3. WriteFile: La función WriteFile se utiliza para escribir datos en un archivo o dispositivo de salida. Al igual que ReadFile, es parte de la API de manipulación de archivos de Windows y se utiliza para escribir datos en archivos en modo síncrono o asíncrono.\n",
    "\n",
    "4. RegCreateKeyW: Esta función se utiliza para crear una nueva subclave o abrir una clave existente en el registro de Windows. Es parte de la API de manipulación del registro de Windows y se utiliza para realizar operaciones relacionadas con la configuración y la persistencia de datos en el registro del sistema."
   ]
  },
  {
   "cell_type": "markdown",
   "metadata": {},
   "source": [
    "#### 5. Con la información recopilada hasta el momento, indique para el archivo ““sample_vg655_25th.exe” si es sospechoso o no, y cual podría ser su propósito.\n",
    "\n",
    "Basándonos en la información proporcionada hasta el momento, sabemos lo siguiente:\n",
    "\n",
    "1. El archivo sample_vg655_25th.exe importa DLLs estándar del sistema operativo Windows, como KERNEL32.dll, USER32.dll, ADVAPI32.dll y MSVCRT.dll. Además, hace uso de diversas APIs comunes para la gestión de archivos, procesos, registros y memoria.\n",
    "\n",
    "2.  Las APIs utilizadas en sample_vg655_25th.exe están relacionadas principalmente con operaciones de gestión de recursos del sistema, lo que sugiere un comportamiento típico de software legítimo. Las DLLs importadas son bibliotecas estándar del sistema operativo Windows, lo cual refuerza la impresión de que el archivo podría ser legítimo.\n",
    "\n",
    "Pero basándonos únicamente en esta información, no podemos determinar de forma concluyente si el archivo es sospechoso o no. Su propósito potencial podría ser el de una aplicación legítima.\n",
    "\n",
    "#### 6. Para el archivo “sample_vg655_25th.exe” obtenga el HASH usando el algoritmo SHA256."
   ]
  },
  {
   "cell_type": "code",
   "execution_count": 9,
   "metadata": {},
   "outputs": [
    {
     "name": "stdout",
     "output_type": "stream",
     "text": [
      "El hash SHA256 del archivo ./sample_vg655_25th.exe es: ed01ebfbc9eb5bbea545af4d01bf5f1071661840480439c6e5babe8e080e41aa\n"
     ]
    }
   ],
   "source": [
    "import hashlib\n",
    "\n",
    "def calcular_hash_sha256(archivo):\n",
    "    with open(archivo, 'rb') as f:\n",
    "        contenido = f.read()\n",
    "        hash_sha256 = hashlib.sha256(contenido).hexdigest()\n",
    "    return hash_sha256\n",
    "\n",
    "hash_sha256 = calcular_hash_sha256(exe_path)\n",
    "print(\"El hash SHA256 del archivo {} es: {}\".format(exe_path, hash_sha256))"
   ]
  },
  {
   "cell_type": "markdown",
   "metadata": {},
   "source": [
    "### Parte 2 – análisis dinámico\n",
    "\n",
    "#### 7. Utilice la plataforma de análisis dinámico https://www.hybrid-analysis.com y cargue el archivo “sample_vg655_25th.exe”. ¿Se corresponde el HASH de la plataforma con el generado? Si encontró información, indique cual. Incluya posibles capturas de pantalla, etc. ¿Se corresponde la información encontrada con el análisis realizado en el punto 5\n",
    "\n",
    "![Resultados generales del ejecutable](./Exe%20test%20results.png)\n",
    "![Resultados del anti virus](./anti%20virus%20results.png)\n",
    "\n",
    "Como podemos observar con las dos imagenes anteriores, el ejecutable resulta ser un archivo sospechoso y malicioso, con un resultado de amenaza del 100%. Como habiamos visto anteriormente en el punto 5, esto no se habia podido confirmar, ya que las funciones que utilizaba eran normales y parecia que el proposito del archivo no era maligno. En conlclusion, por este es que son necesarios analisis como estos, para poder descartar malwares aunque parezcan no ser malignos. "
   ]
  }
 ],
 "metadata": {
  "kernelspec": {
   "display_name": "Python 3",
   "language": "python",
   "name": "python3"
  },
  "language_info": {
   "codemirror_mode": {
    "name": "ipython",
    "version": 3
   },
   "file_extension": ".py",
   "mimetype": "text/x-python",
   "name": "python",
   "nbconvert_exporter": "python",
   "pygments_lexer": "ipython3",
   "version": "3.10.12"
  }
 },
 "nbformat": 4,
 "nbformat_minor": 2
}

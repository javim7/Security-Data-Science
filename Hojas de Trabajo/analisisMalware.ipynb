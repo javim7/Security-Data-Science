{
 "cells": [
  {
   "cell_type": "markdown",
   "metadata": {},
   "source": [
    "# Hoja de Trabajo: Análisis de Malware\n",
    "### Javier Mombiela\n",
    "### Carnet: 20067\n",
    "### 23 de febrero del 2024"
   ]
  },
  {
   "cell_type": "code",
   "execution_count": 1,
   "metadata": {},
   "outputs": [],
   "source": [
    "import pefile"
   ]
  },
  {
   "cell_type": "markdown",
   "metadata": {},
   "source": [
    "#### Parte 1 – análisis estático"
   ]
  },
  {
   "cell_type": "code",
   "execution_count": 2,
   "metadata": {},
   "outputs": [],
   "source": [
    "exe_path = './sample_vg655_25th.exe'"
   ]
  },
  {
   "cell_type": "markdown",
   "metadata": {},
   "source": [
    "1. Utilice la herramienta pefile para examinar el PE header y obtenga las DLL y las APIs"
   ]
  },
  {
   "cell_type": "code",
   "execution_count": 3,
   "metadata": {},
   "outputs": [
    {
     "name": "stdout",
     "output_type": "stream",
     "text": [
      "DLLs importadas:\n",
      "\t KERNEL32.dll\n",
      "\t USER32.dll\n",
      "\t ADVAPI32.dll\n",
      "\t MSVCRT.dll\n",
      "\n",
      "APIs importadas:\n",
      "\tDLL: KERNEL32.dll\n",
      "\t\t GetFileAttributesW\n",
      "\t\t GetFileSizeEx\n",
      "\t\t CreateFileA\n",
      "\t\t InitializeCriticalSection\n",
      "\t\t DeleteCriticalSection\n",
      "\t\t ReadFile\n",
      "\t\t GetFileSize\n",
      "\t\t WriteFile\n",
      "\t\t LeaveCriticalSection\n",
      "\t\t EnterCriticalSection\n",
      "\t\t SetFileAttributesW\n",
      "\t\t SetCurrentDirectoryW\n",
      "\t\t CreateDirectoryW\n",
      "\t\t GetTempPathW\n",
      "\t\t GetWindowsDirectoryW\n",
      "\t\t GetFileAttributesA\n",
      "\t\t SizeofResource\n",
      "\t\t LockResource\n",
      "\t\t LoadResource\n",
      "\t\t MultiByteToWideChar\n",
      "\t\t Sleep\n",
      "\t\t OpenMutexA\n",
      "\t\t GetFullPathNameA\n",
      "\t\t CopyFileA\n",
      "\t\t GetModuleFileNameA\n",
      "\t\t VirtualAlloc\n",
      "\t\t VirtualFree\n",
      "\t\t FreeLibrary\n",
      "\t\t HeapAlloc\n",
      "\t\t GetProcessHeap\n",
      "\t\t GetModuleHandleA\n",
      "\t\t SetLastError\n",
      "\t\t VirtualProtect\n",
      "\t\t IsBadReadPtr\n",
      "\t\t HeapFree\n",
      "\t\t SystemTimeToFileTime\n",
      "\t\t LocalFileTimeToFileTime\n",
      "\t\t CreateDirectoryA\n",
      "\t\t GetStartupInfoA\n",
      "\t\t SetFilePointer\n",
      "\t\t SetFileTime\n",
      "\t\t GetComputerNameW\n",
      "\t\t GetCurrentDirectoryA\n",
      "\t\t SetCurrentDirectoryA\n",
      "\t\t GlobalAlloc\n",
      "\t\t LoadLibraryA\n",
      "\t\t GetProcAddress\n",
      "\t\t GlobalFree\n",
      "\t\t CreateProcessA\n",
      "\t\t CloseHandle\n",
      "\t\t WaitForSingleObject\n",
      "\t\t TerminateProcess\n",
      "\t\t GetExitCodeProcess\n",
      "\t\t FindResourceA\n",
      "\tDLL: USER32.dll\n",
      "\t\t wsprintfA\n",
      "\tDLL: ADVAPI32.dll\n",
      "\t\t CreateServiceA\n",
      "\t\t OpenServiceA\n",
      "\t\t StartServiceA\n",
      "\t\t CloseServiceHandle\n",
      "\t\t CryptReleaseContext\n",
      "\t\t RegCreateKeyW\n",
      "\t\t RegSetValueExA\n",
      "\t\t RegQueryValueExA\n",
      "\t\t RegCloseKey\n",
      "\t\t OpenSCManagerA\n",
      "\tDLL: MSVCRT.dll\n",
      "\t\t realloc\n",
      "\t\t fclose\n",
      "\t\t fwrite\n",
      "\t\t fread\n",
      "\t\t fopen\n",
      "\t\t sprintf\n",
      "\t\t rand\n",
      "\t\t srand\n",
      "\t\t strcpy\n",
      "\t\t memset\n",
      "\t\t strlen\n",
      "\t\t wcscat\n",
      "\t\t wcslen\n",
      "\t\t __CxxFrameHandler\n",
      "\t\t ??3@YAXPAX@Z\n",
      "\t\t memcmp\n",
      "\t\t _except_handler3\n",
      "\t\t _local_unwind2\n",
      "\t\t wcsrchr\n",
      "\t\t swprintf\n",
      "\t\t ??2@YAPAXI@Z\n",
      "\t\t memcpy\n",
      "\t\t strcmp\n",
      "\t\t strrchr\n",
      "\t\t __p___argv\n",
      "\t\t __p___argc\n",
      "\t\t _stricmp\n",
      "\t\t free\n",
      "\t\t malloc\n",
      "\t\t ??0exception@@QAE@ABV0@@Z\n",
      "\t\t ??1exception@@UAE@XZ\n",
      "\t\t ??0exception@@QAE@ABQBD@Z\n",
      "\t\t _CxxThrowException\n",
      "\t\t calloc\n",
      "\t\t strcat\n",
      "\t\t _mbsstr\n",
      "\t\t ??1type_info@@UAE@XZ\n",
      "\t\t _exit\n",
      "\t\t _XcptFilter\n",
      "\t\t exit\n",
      "\t\t _acmdln\n",
      "\t\t __getmainargs\n",
      "\t\t _initterm\n",
      "\t\t __setusermatherr\n",
      "\t\t _adjust_fdiv\n",
      "\t\t __p__commode\n",
      "\t\t __p__fmode\n",
      "\t\t __set_app_type\n",
      "\t\t _controlfp\n"
     ]
    }
   ],
   "source": [
    "def get_imports_info(exe_path):\n",
    "    try:\n",
    "        pe = pefile.PE(exe_path)\n",
    "        print(\"DLLs importadas:\")\n",
    "        for entry in pe.DIRECTORY_ENTRY_IMPORT:\n",
    "            print(\"\\t\", entry.dll.decode())\n",
    "\n",
    "        print(\"\\nAPIs importadas:\")\n",
    "        for entry in pe.DIRECTORY_ENTRY_IMPORT:\n",
    "            print(\"\\tDLL:\", entry.dll.decode())\n",
    "            for imp in entry.imports:\n",
    "                print(\"\\t\\t\", imp.name.decode())\n",
    "    except Exception as e:\n",
    "        print(\"Error:\", e)\n",
    "\n",
    "get_imports_info(exe_path)"
   ]
  },
  {
   "cell_type": "markdown",
   "metadata": {},
   "source": [
    "- No hay indicios inmediatos de comportamiento sospechoso en la cantidad de DLLs importadas ni en las APIs llamadas. El número de DLLs importadas (cuatro) no es por sí mismo alarmante, y las APIs llamadas son funciones estándar del sistema operativo Windows."
   ]
  },
  {
   "cell_type": "markdown",
   "metadata": {},
   "source": [
    "2. Obtenga la información de las secciones del PE Header. ¿Qué significa que algunas secciones tengan como parte de su nombre “upx”? Realice el procedimiento de desempaquetado para obtener las llamadas completas de las APIs.\n",
    "\n",
    "- Las secciones con nombres que contienen \"upx\" generalmente indican que el archivo ha sido comprimido o empaquetado utilizando la herramienta de compresión UPX (Ultimate Packer for eXecutables)."
   ]
  },
  {
   "cell_type": "code",
   "execution_count": 4,
   "metadata": {},
   "outputs": [
    {
     "name": "stdout",
     "output_type": "stream",
     "text": [
      "Secciones del PE Header:\n",
      "\tNombre: .text\n",
      "\tVirtualAddress: 0x1000\n",
      "\tVirtualSize: 0x69b0\n",
      "\tSizeOfRawData: 0x7000\n",
      "\tPointerToRawData: 0x1000\n",
      "\tCharacteristics: 0x60000020\n",
      "\n",
      "\tNombre: .rdata\n",
      "\tVirtualAddress: 0x8000\n",
      "\tVirtualSize: 0x5f70\n",
      "\tSizeOfRawData: 0x6000\n",
      "\tPointerToRawData: 0x8000\n",
      "\tCharacteristics: 0x40000040\n",
      "\n",
      "\tNombre: .data\n",
      "\tVirtualAddress: 0xe000\n",
      "\tVirtualSize: 0x1958\n",
      "\tSizeOfRawData: 0x2000\n",
      "\tPointerToRawData: 0xe000\n",
      "\tCharacteristics: 0xc0000040\n",
      "\n",
      "\tNombre: .rsrc\n",
      "\tVirtualAddress: 0x10000\n",
      "\tVirtualSize: 0x349fa0\n",
      "\tSizeOfRawData: 0x34a000\n",
      "\tPointerToRawData: 0x10000\n",
      "\tCharacteristics: 0x40000040\n",
      "\n"
     ]
    }
   ],
   "source": [
    "def get_sections_info(exe_path):\n",
    "    try:\n",
    "        pe = pefile.PE(exe_path)\n",
    "        print(\"Secciones del PE Header:\")\n",
    "        for section in pe.sections:\n",
    "            print(\"\\tNombre:\", section.Name.decode().strip('\\x00'))\n",
    "            print(\"\\tVirtualAddress:\", hex(section.VirtualAddress))\n",
    "            print(\"\\tVirtualSize:\", hex(section.Misc_VirtualSize))\n",
    "            print(\"\\tSizeOfRawData:\", hex(section.SizeOfRawData))\n",
    "            print(\"\\tPointerToRawData:\", hex(section.PointerToRawData))\n",
    "            print(\"\\tCharacteristics:\", hex(section.Characteristics))\n",
    "            print()\n",
    "            \n",
    "            # Desempaquetar secciones con \"upx\" en el nombre\n",
    "            if b\"upx\" in section.Name.lower():\n",
    "                print(\"Desempaquetando sección:\", section.Name.decode().strip('\\x00'))\n",
    "                unpacked_data = section.get_data()\n",
    "                print(\"Sección desempaquetada:\", unpacked_data)\n",
    "                \n",
    "    except Exception as e:\n",
    "        print(\"Error:\", e)\n",
    "\n",
    "get_sections_info(exe_path)"
   ]
  },
  {
   "cell_type": "markdown",
   "metadata": {},
   "source": [
    "3. Según el paper “Towards Understanding Malware Behaviour by the Extraction of API Calls”, ¿en que categoría sospechosas pueden clasificarse estos ejemplos en base a algunas de las llamadas a las APIs que realizan? Muestre una tabla con las APIs sospechosas y la categoría de malware que el artículo propone"
   ]
  },
  {
   "cell_type": "code",
   "execution_count": null,
   "metadata": {},
   "outputs": [],
   "source": []
  }
 ],
 "metadata": {
  "kernelspec": {
   "display_name": "Python 3",
   "language": "python",
   "name": "python3"
  },
  "language_info": {
   "codemirror_mode": {
    "name": "ipython",
    "version": 3
   },
   "file_extension": ".py",
   "mimetype": "text/x-python",
   "name": "python",
   "nbconvert_exporter": "python",
   "pygments_lexer": "ipython3",
   "version": "3.10.12"
  }
 },
 "nbformat": 4,
 "nbformat_minor": 2
}
